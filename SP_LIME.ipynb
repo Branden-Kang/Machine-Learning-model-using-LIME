{
  "nbformat": 4,
  "nbformat_minor": 0,
  "metadata": {
    "colab": {
      "name": "SP_LIME.ipynb",
      "provenance": [],
      "authorship_tag": "ABX9TyPp3tdsumj+ctKe/EikwcCJ"
    },
    "kernelspec": {
      "name": "python3",
      "display_name": "Python 3"
    }
  },
  "cells": [
    {
      "cell_type": "markdown",
      "metadata": {
        "id": "81f8dSRtK7x7",
        "colab_type": "text"
      },
      "source": [
        "# SP LIME\n",
        "## Regression explainer with boston housing prices dataset"
      ]
    },
    {
      "cell_type": "code",
      "metadata": {
        "id": "R52xX7hcK5qr",
        "colab_type": "code",
        "colab": {
          "base_uri": "https://localhost:8080/",
          "height": 938
        },
        "outputId": "a6019ba9-c4bf-43e7-f5f9-4a95645c2384"
      },
      "source": [
        "from sklearn.datasets import load_boston\n",
        "import sklearn.ensemble\n",
        "import sklearn.linear_model\n",
        "import sklearn.model_selection\n",
        "import numpy as np\n",
        "from sklearn.metrics import r2_score\n",
        "np.random.seed(1)\n",
        "\n",
        "#load example dataset\n",
        "boston = load_boston()\n",
        "\n",
        "#print a description of the variables\n",
        "print(boston.DESCR)\n",
        "\n",
        "#train a regressor\n",
        "rf = sklearn.ensemble.RandomForestRegressor(n_estimators=1000)\n",
        "train, test, labels_train, labels_test = sklearn.model_selection.train_test_split(boston.data, boston.target, train_size=0.80, test_size=0.20)\n",
        "rf.fit(train, labels_train);\n",
        "\n",
        "#train a linear regressor\n",
        "lr = sklearn.linear_model.LinearRegression()\n",
        "lr.fit(train,labels_train)\n",
        "\n",
        "#print the R^2 score of the random forest\n",
        "print(\"Random Forest R^2 Score: \" +str(round(r2_score(rf.predict(test),labels_test),3)))\n",
        "print(\"Linear Regression R^2 Score: \" +str(round(r2_score(lr.predict(test),labels_test),3)))"
      ],
      "execution_count": 1,
      "outputs": [
        {
          "output_type": "stream",
          "text": [
            ".. _boston_dataset:\n",
            "\n",
            "Boston house prices dataset\n",
            "---------------------------\n",
            "\n",
            "**Data Set Characteristics:**  \n",
            "\n",
            "    :Number of Instances: 506 \n",
            "\n",
            "    :Number of Attributes: 13 numeric/categorical predictive. Median Value (attribute 14) is usually the target.\n",
            "\n",
            "    :Attribute Information (in order):\n",
            "        - CRIM     per capita crime rate by town\n",
            "        - ZN       proportion of residential land zoned for lots over 25,000 sq.ft.\n",
            "        - INDUS    proportion of non-retail business acres per town\n",
            "        - CHAS     Charles River dummy variable (= 1 if tract bounds river; 0 otherwise)\n",
            "        - NOX      nitric oxides concentration (parts per 10 million)\n",
            "        - RM       average number of rooms per dwelling\n",
            "        - AGE      proportion of owner-occupied units built prior to 1940\n",
            "        - DIS      weighted distances to five Boston employment centres\n",
            "        - RAD      index of accessibility to radial highways\n",
            "        - TAX      full-value property-tax rate per $10,000\n",
            "        - PTRATIO  pupil-teacher ratio by town\n",
            "        - B        1000(Bk - 0.63)^2 where Bk is the proportion of blacks by town\n",
            "        - LSTAT    % lower status of the population\n",
            "        - MEDV     Median value of owner-occupied homes in $1000's\n",
            "\n",
            "    :Missing Attribute Values: None\n",
            "\n",
            "    :Creator: Harrison, D. and Rubinfeld, D.L.\n",
            "\n",
            "This is a copy of UCI ML housing dataset.\n",
            "https://archive.ics.uci.edu/ml/machine-learning-databases/housing/\n",
            "\n",
            "\n",
            "This dataset was taken from the StatLib library which is maintained at Carnegie Mellon University.\n",
            "\n",
            "The Boston house-price data of Harrison, D. and Rubinfeld, D.L. 'Hedonic\n",
            "prices and the demand for clean air', J. Environ. Economics & Management,\n",
            "vol.5, 81-102, 1978.   Used in Belsley, Kuh & Welsch, 'Regression diagnostics\n",
            "...', Wiley, 1980.   N.B. Various transformations are used in the table on\n",
            "pages 244-261 of the latter.\n",
            "\n",
            "The Boston house-price data has been used in many machine learning papers that address regression\n",
            "problems.   \n",
            "     \n",
            ".. topic:: References\n",
            "\n",
            "   - Belsley, Kuh & Welsch, 'Regression diagnostics: Identifying Influential Data and Sources of Collinearity', Wiley, 1980. 244-261.\n",
            "   - Quinlan,R. (1993). Combining Instance-Based and Model-Based Learning. In Proceedings on the Tenth International Conference of Machine Learning, 236-243, University of Massachusetts, Amherst. Morgan Kaufmann.\n",
            "\n",
            "Random Forest R^2 Score: 0.881\n",
            "Linear Regression R^2 Score: 0.593\n"
          ],
          "name": "stdout"
        }
      ]
    },
    {
      "cell_type": "code",
      "metadata": {
        "id": "t7sZ5wY1K-wS",
        "colab_type": "code",
        "colab": {
          "base_uri": "https://localhost:8080/",
          "height": 581
        },
        "outputId": "715b1578-a4f4-4cba-aa1d-cb844871567c"
      },
      "source": [
        "!pip install lime\n",
        "# import lime tools\n",
        "import lime\n",
        "import lime.lime_tabular\n",
        "\n",
        "# generate an \"explainer\" object\n",
        "categorical_features  = np.argwhere(np.array([len(set(boston.data[:,x])) for x in range(boston.data.shape[1])]) <= 10).flatten()\n",
        "explainer = lime.lime_tabular.LimeTabularExplainer(train, feature_names=boston.feature_names, class_names=['price'], categorical_features=categorical_features, verbose=False, mode='regression',discretize_continuous=False)"
      ],
      "execution_count": 3,
      "outputs": [
        {
          "output_type": "stream",
          "text": [
            "Collecting lime\n",
            "\u001b[?25l  Downloading https://files.pythonhosted.org/packages/b5/e0/60070b461a589b2fee0dbc45df9987f150fca83667c2f8a064cef7dbac6b/lime-0.1.1.37.tar.gz (275kB)\n",
            "\r\u001b[K     |█▏                              | 10kB 19.6MB/s eta 0:00:01\r\u001b[K     |██▍                             | 20kB 3.1MB/s eta 0:00:01\r\u001b[K     |███▋                            | 30kB 4.4MB/s eta 0:00:01\r\u001b[K     |████▊                           | 40kB 2.9MB/s eta 0:00:01\r\u001b[K     |██████                          | 51kB 3.6MB/s eta 0:00:01\r\u001b[K     |███████▏                        | 61kB 4.3MB/s eta 0:00:01\r\u001b[K     |████████▎                       | 71kB 4.9MB/s eta 0:00:01\r\u001b[K     |█████████▌                      | 81kB 5.5MB/s eta 0:00:01\r\u001b[K     |██████████▊                     | 92kB 6.1MB/s eta 0:00:01\r\u001b[K     |███████████▉                    | 102kB 4.8MB/s eta 0:00:01\r\u001b[K     |█████████████                   | 112kB 4.8MB/s eta 0:00:01\r\u001b[K     |██████████████▎                 | 122kB 4.8MB/s eta 0:00:01\r\u001b[K     |███████████████▍                | 133kB 4.8MB/s eta 0:00:01\r\u001b[K     |████████████████▋               | 143kB 4.8MB/s eta 0:00:01\r\u001b[K     |█████████████████▉              | 153kB 4.8MB/s eta 0:00:01\r\u001b[K     |███████████████████             | 163kB 4.8MB/s eta 0:00:01\r\u001b[K     |████████████████████▏           | 174kB 4.8MB/s eta 0:00:01\r\u001b[K     |█████████████████████▍          | 184kB 4.8MB/s eta 0:00:01\r\u001b[K     |██████████████████████▋         | 194kB 4.8MB/s eta 0:00:01\r\u001b[K     |███████████████████████▊        | 204kB 4.8MB/s eta 0:00:01\r\u001b[K     |█████████████████████████       | 215kB 4.8MB/s eta 0:00:01\r\u001b[K     |██████████████████████████▏     | 225kB 4.8MB/s eta 0:00:01\r\u001b[K     |███████████████████████████▎    | 235kB 4.8MB/s eta 0:00:01\r\u001b[K     |████████████████████████████▌   | 245kB 4.8MB/s eta 0:00:01\r\u001b[K     |█████████████████████████████▊  | 256kB 4.8MB/s eta 0:00:01\r\u001b[K     |██████████████████████████████▉ | 266kB 4.8MB/s eta 0:00:01\r\u001b[K     |████████████████████████████████| 276kB 4.8MB/s \n",
            "\u001b[?25hRequirement already satisfied: numpy in /usr/local/lib/python3.6/dist-packages (from lime) (1.17.5)\n",
            "Requirement already satisfied: scipy in /usr/local/lib/python3.6/dist-packages (from lime) (1.4.1)\n",
            "Collecting progressbar\n",
            "  Downloading https://files.pythonhosted.org/packages/a3/a6/b8e451f6cff1c99b4747a2f7235aa904d2d49e8e1464e0b798272aa84358/progressbar-2.5.tar.gz\n",
            "Requirement already satisfied: scikit-learn>=0.18 in /usr/local/lib/python3.6/dist-packages (from lime) (0.22.1)\n",
            "Requirement already satisfied: matplotlib in /usr/local/lib/python3.6/dist-packages (from lime) (3.1.2)\n",
            "Requirement already satisfied: scikit-image>=0.12 in /usr/local/lib/python3.6/dist-packages (from lime) (0.16.2)\n",
            "Requirement already satisfied: joblib>=0.11 in /usr/local/lib/python3.6/dist-packages (from scikit-learn>=0.18->lime) (0.14.1)\n",
            "Requirement already satisfied: kiwisolver>=1.0.1 in /usr/local/lib/python3.6/dist-packages (from matplotlib->lime) (1.1.0)\n",
            "Requirement already satisfied: python-dateutil>=2.1 in /usr/local/lib/python3.6/dist-packages (from matplotlib->lime) (2.6.1)\n",
            "Requirement already satisfied: cycler>=0.10 in /usr/local/lib/python3.6/dist-packages (from matplotlib->lime) (0.10.0)\n",
            "Requirement already satisfied: pyparsing!=2.0.4,!=2.1.2,!=2.1.6,>=2.0.1 in /usr/local/lib/python3.6/dist-packages (from matplotlib->lime) (2.4.6)\n",
            "Requirement already satisfied: imageio>=2.3.0 in /usr/local/lib/python3.6/dist-packages (from scikit-image>=0.12->lime) (2.4.1)\n",
            "Requirement already satisfied: networkx>=2.0 in /usr/local/lib/python3.6/dist-packages (from scikit-image>=0.12->lime) (2.4)\n",
            "Requirement already satisfied: pillow>=4.3.0 in /usr/local/lib/python3.6/dist-packages (from scikit-image>=0.12->lime) (6.2.2)\n",
            "Requirement already satisfied: PyWavelets>=0.4.0 in /usr/local/lib/python3.6/dist-packages (from scikit-image>=0.12->lime) (1.1.1)\n",
            "Requirement already satisfied: setuptools in /usr/local/lib/python3.6/dist-packages (from kiwisolver>=1.0.1->matplotlib->lime) (42.0.2)\n",
            "Requirement already satisfied: six>=1.5 in /usr/local/lib/python3.6/dist-packages (from python-dateutil>=2.1->matplotlib->lime) (1.12.0)\n",
            "Requirement already satisfied: decorator>=4.3.0 in /usr/local/lib/python3.6/dist-packages (from networkx>=2.0->scikit-image>=0.12->lime) (4.4.1)\n",
            "Building wheels for collected packages: lime, progressbar\n",
            "  Building wheel for lime (setup.py) ... \u001b[?25l\u001b[?25hdone\n",
            "  Created wheel for lime: filename=lime-0.1.1.37-cp36-none-any.whl size=284277 sha256=4c024399e5787fcda42b728d854e4f508ab4722a08b0469b494f83be3279b328\n",
            "  Stored in directory: /root/.cache/pip/wheels/c1/38/e7/50d75d4fb75afa604570dc42f20c5c5f5ab26d3fbe8d6ef27b\n",
            "  Building wheel for progressbar (setup.py) ... \u001b[?25l\u001b[?25hdone\n",
            "  Created wheel for progressbar: filename=progressbar-2.5-cp36-none-any.whl size=12073 sha256=9c7acef0d8e335ba5486cfc4cb189e301569e817464cc26369aa00ede252b345\n",
            "  Stored in directory: /root/.cache/pip/wheels/c0/e9/6b/ea01090205e285175842339aa3b491adeb4015206cda272ff0\n",
            "Successfully built lime progressbar\n",
            "Installing collected packages: progressbar, lime\n",
            "Successfully installed lime-0.1.1.37 progressbar-2.5\n"
          ],
          "name": "stdout"
        }
      ]
    },
    {
      "cell_type": "code",
      "metadata": {
        "id": "kDo0MUH4LDPL",
        "colab_type": "code",
        "colab": {}
      },
      "source": [
        "#generate an explanation\n",
        "i = 13\n",
        "exp = explainer.explain_instance(test[i], rf.predict, num_features=14)"
      ],
      "execution_count": 0,
      "outputs": []
    },
    {
      "cell_type": "code",
      "metadata": {
        "id": "GDanH6SrLHpq",
        "colab_type": "code",
        "colab": {
          "base_uri": "https://localhost:8080/",
          "height": 281
        },
        "outputId": "e2bc0a89-df70-4c7b-9e58-6c367a5156c0"
      },
      "source": [
        "%matplotlib inline\n",
        "fig = exp.as_pyplot_figure();"
      ],
      "execution_count": 5,
      "outputs": [
        {
          "output_type": "display_data",
          "data": {
            "image/png": "[encoded data removed]",
            "text/plain": [
              "<Figure size 432x288 with 1 Axes>"
            ]
          },
          "metadata": {
            "tags": []
          }
        }
      ]
    },
    {
      "cell_type": "code",
      "metadata": {
        "id": "HOzLck4iLI7N",
        "colab_type": "code",
        "colab": {
          "base_uri": "https://localhost:8080/",
          "height": 238
        },
        "outputId": "cfa74b98-1e8a-423a-cd7d-2835b56d23a2"
      },
      "source": [
        "print(\"Input feature names: \")\n",
        "print(boston.feature_names)\n",
        "print('\\n')\n",
        "\n",
        "print(\"Input feature values: \")\n",
        "print(test[i])\n",
        "print('\\n')\n",
        "\n",
        "print(\"Predicted: \")\n",
        "print(rf.predict(test)[i])"
      ],
      "execution_count": 6,
      "outputs": [
        {
          "output_type": "stream",
          "text": [
            "Input feature names: \n",
            "['CRIM' 'ZN' 'INDUS' 'CHAS' 'NOX' 'RM' 'AGE' 'DIS' 'RAD' 'TAX' 'PTRATIO'\n",
            " 'B' 'LSTAT']\n",
            "\n",
            "\n",
            "Input feature values: \n",
            "[4.3790e-02 8.0000e+01 3.3700e+00 0.0000e+00 3.9800e-01 5.7870e+00\n",
            " 3.1100e+01 6.6115e+00 4.0000e+00 3.3700e+02 1.6100e+01 3.9690e+02\n",
            " 1.0240e+01]\n",
            "\n",
            "\n",
            "Predicted: \n",
            "20.161599999999957\n"
          ],
          "name": "stdout"
        }
      ]
    },
    {
      "cell_type": "markdown",
      "metadata": {
        "id": "ikT4Ub81LUu4",
        "colab_type": "text"
      },
      "source": [
        "## SP-LIME pick step\n",
        "Maximize the 'coverage' function:"
      ]
    },
    {
      "cell_type": "code",
      "metadata": {
        "id": "txWrW8A4LKcy",
        "colab_type": "code",
        "colab": {}
      },
      "source": [
        "import warnings\n",
        "from lime import submodular_pick\n",
        "sp_obj = submodular_pick.SubmodularPick(explainer, train, rf.predict, sample_size=20, num_features=14, num_exps_desired=5)"
      ],
      "execution_count": 0,
      "outputs": []
    },
    {
      "cell_type": "code",
      "metadata": {
        "id": "gwNDJyGuLYcp",
        "colab_type": "code",
        "colab": {
          "base_uri": "https://localhost:8080/",
          "height": 1000
        },
        "outputId": "3df0ea86-5f18-4cb7-f3b0-60c02da5d60a"
      },
      "source": [
        "[exp.as_pyplot_figure() for exp in sp_obj.sp_explanations];"
      ],
      "execution_count": 8,
      "outputs": [
        {
          "output_type": "display_data",
          "data": {
            "image/png": "[encoded data removed]",
            "text/plain": [
              "<Figure size 432x288 with 1 Axes>"
            ]
          },
          "metadata": {
            "tags": []
          }
        },
        {
          "output_type": "display_data",
          "data": {
            "image/png": "[encoded data removed]",
            "text/plain": [
              "<Figure size 432x288 with 1 Axes>"
            ]
          },
          "metadata": {
            "tags": []
          }
        },
        {
          "output_type": "display_data",
          "data": {
            "image/png": "[encoded data removed]",
            "text/plain": [
              "<Figure size 432x288 with 1 Axes>"
            ]
          },
          "metadata": {
            "tags": []
          }
        },
        {
          "output_type": "display_data",
          "data": {
            "image/png": "[encoded data removed]",
            "text/plain": [
              "<Figure size 432x288 with 1 Axes>"
            ]
          },
          "metadata": {
            "tags": []
          }
        },
        {
          "output_type": "display_data",
          "data": {
            "image/png": "[encoded data removed]",
            "text/plain": [
              "<Figure size 432x288 with 1 Axes>"
            ]
          },
          "metadata": {
            "tags": []
          }
        }
      ]
    },
    {
      "cell_type": "code",
      "metadata": {
        "id": "17wlYtHZLZ44",
        "colab_type": "code",
        "colab": {}
      },
      "source": [
        "import pandas as pd\n",
        "W=pd.DataFrame([dict(this.as_list()) for this in sp_obj.explanations])"
      ],
      "execution_count": 0,
      "outputs": []
    },
    {
      "cell_type": "code",
      "metadata": {
        "id": "9pqZi8MFLczv",
        "colab_type": "code",
        "colab": {
          "base_uri": "https://localhost:8080/",
          "height": 224
        },
        "outputId": "f373f83f-45f9-4d5d-ba21-840d9332bd42"
      },
      "source": [
        "W.head()"
      ],
      "execution_count": 10,
      "outputs": [
        {
          "output_type": "execute_result",
          "data": {
            "text/html": [
              "<div>\n",
              "<style scoped>\n",
              "    .dataframe tbody tr th:only-of-type {\n",
              "        vertical-align: middle;\n",
              "    }\n",
              "\n",
              "    .dataframe tbody tr th {\n",
              "        vertical-align: top;\n",
              "    }\n",
              "\n",
              "    .dataframe thead th {\n",
              "        text-align: right;\n",
              "    }\n",
              "</style>\n",
              "<table border=\"1\" class=\"dataframe\">\n",
              "  <thead>\n",
              "    <tr style=\"text-align: right;\">\n",
              "      <th></th>\n",
              "      <th>LSTAT</th>\n",
              "      <th>RM</th>\n",
              "      <th>DIS</th>\n",
              "      <th>NOX</th>\n",
              "      <th>PTRATIO</th>\n",
              "      <th>CHAS=1</th>\n",
              "      <th>INDUS</th>\n",
              "      <th>TAX</th>\n",
              "      <th>CRIM</th>\n",
              "      <th>RAD=24</th>\n",
              "      <th>AGE</th>\n",
              "      <th>ZN</th>\n",
              "      <th>B</th>\n",
              "      <th>CHAS=0</th>\n",
              "      <th>RAD=2</th>\n",
              "      <th>RAD=4</th>\n",
              "      <th>RAD=5</th>\n",
              "      <th>RAD=7</th>\n",
              "      <th>RAD=3</th>\n",
              "    </tr>\n",
              "  </thead>\n",
              "  <tbody>\n",
              "    <tr>\n",
              "      <th>0</th>\n",
              "      <td>-4.936540</td>\n",
              "      <td>1.697873</td>\n",
              "      <td>-1.679754</td>\n",
              "      <td>-0.343378</td>\n",
              "      <td>-0.320559</td>\n",
              "      <td>0.24686</td>\n",
              "      <td>-0.192611</td>\n",
              "      <td>-0.123928</td>\n",
              "      <td>0.077156</td>\n",
              "      <td>0.066450</td>\n",
              "      <td>-0.053728</td>\n",
              "      <td>-0.040934</td>\n",
              "      <td>-0.004637</td>\n",
              "      <td>NaN</td>\n",
              "      <td>NaN</td>\n",
              "      <td>NaN</td>\n",
              "      <td>NaN</td>\n",
              "      <td>NaN</td>\n",
              "      <td>NaN</td>\n",
              "    </tr>\n",
              "    <tr>\n",
              "      <th>1</th>\n",
              "      <td>-4.739967</td>\n",
              "      <td>2.039338</td>\n",
              "      <td>-1.522723</td>\n",
              "      <td>-0.207060</td>\n",
              "      <td>-0.515959</td>\n",
              "      <td>NaN</td>\n",
              "      <td>-0.238300</td>\n",
              "      <td>-0.324973</td>\n",
              "      <td>0.094069</td>\n",
              "      <td>NaN</td>\n",
              "      <td>-0.119059</td>\n",
              "      <td>0.090418</td>\n",
              "      <td>0.053741</td>\n",
              "      <td>-0.083707</td>\n",
              "      <td>-0.068962</td>\n",
              "      <td>NaN</td>\n",
              "      <td>NaN</td>\n",
              "      <td>NaN</td>\n",
              "      <td>NaN</td>\n",
              "    </tr>\n",
              "    <tr>\n",
              "      <th>2</th>\n",
              "      <td>-4.993816</td>\n",
              "      <td>1.393664</td>\n",
              "      <td>-1.448445</td>\n",
              "      <td>-0.493143</td>\n",
              "      <td>-0.312619</td>\n",
              "      <td>NaN</td>\n",
              "      <td>-0.114454</td>\n",
              "      <td>-0.147695</td>\n",
              "      <td>0.003418</td>\n",
              "      <td>0.140832</td>\n",
              "      <td>-0.177080</td>\n",
              "      <td>0.055998</td>\n",
              "      <td>0.044980</td>\n",
              "      <td>0.049997</td>\n",
              "      <td>NaN</td>\n",
              "      <td>NaN</td>\n",
              "      <td>NaN</td>\n",
              "      <td>NaN</td>\n",
              "      <td>NaN</td>\n",
              "    </tr>\n",
              "    <tr>\n",
              "      <th>3</th>\n",
              "      <td>-4.401605</td>\n",
              "      <td>2.044411</td>\n",
              "      <td>-1.136512</td>\n",
              "      <td>-0.175595</td>\n",
              "      <td>-0.410286</td>\n",
              "      <td>NaN</td>\n",
              "      <td>-0.117158</td>\n",
              "      <td>-0.292520</td>\n",
              "      <td>0.221582</td>\n",
              "      <td>NaN</td>\n",
              "      <td>-0.177237</td>\n",
              "      <td>-0.030454</td>\n",
              "      <td>0.027672</td>\n",
              "      <td>0.025551</td>\n",
              "      <td>NaN</td>\n",
              "      <td>0.020023</td>\n",
              "      <td>NaN</td>\n",
              "      <td>NaN</td>\n",
              "      <td>NaN</td>\n",
              "    </tr>\n",
              "    <tr>\n",
              "      <th>4</th>\n",
              "      <td>-4.789939</td>\n",
              "      <td>1.942184</td>\n",
              "      <td>-1.604062</td>\n",
              "      <td>-0.244761</td>\n",
              "      <td>-0.398450</td>\n",
              "      <td>NaN</td>\n",
              "      <td>-0.154101</td>\n",
              "      <td>-0.360995</td>\n",
              "      <td>0.281645</td>\n",
              "      <td>NaN</td>\n",
              "      <td>-0.111699</td>\n",
              "      <td>0.017630</td>\n",
              "      <td>0.096809</td>\n",
              "      <td>-0.293248</td>\n",
              "      <td>NaN</td>\n",
              "      <td>-0.008414</td>\n",
              "      <td>NaN</td>\n",
              "      <td>NaN</td>\n",
              "      <td>NaN</td>\n",
              "    </tr>\n",
              "  </tbody>\n",
              "</table>\n",
              "</div>"
            ],
            "text/plain": [
              "      LSTAT        RM       DIS       NOX  ...     RAD=4  RAD=5  RAD=7  RAD=3\n",
              "0 -4.936540  1.697873 -1.679754 -0.343378  ...       NaN    NaN    NaN    NaN\n",
              "1 -4.739967  2.039338 -1.522723 -0.207060  ...       NaN    NaN    NaN    NaN\n",
              "2 -4.993816  1.393664 -1.448445 -0.493143  ...       NaN    NaN    NaN    NaN\n",
              "3 -4.401605  2.044411 -1.136512 -0.175595  ...  0.020023    NaN    NaN    NaN\n",
              "4 -4.789939  1.942184 -1.604062 -0.244761  ... -0.008414    NaN    NaN    NaN\n",
              "\n",
              "[5 rows x 19 columns]"
            ]
          },
          "metadata": {
            "tags": []
          },
          "execution_count": 10
        }
      ]
    },
    {
      "cell_type": "code",
      "metadata": {
        "id": "MfebqRvVLdg6",
        "colab_type": "code",
        "colab": {
          "base_uri": "https://localhost:8080/",
          "height": 281
        },
        "outputId": "09988239-d3fc-4a59-a5c2-26fa669a7892"
      },
      "source": [
        "im=W.hist('NOX',bins=20)"
      ],
      "execution_count": 11,
      "outputs": [
        {
          "output_type": "display_data",
          "data": {
            "image/png": "[encoded data removed]",
            "text/plain": [
              "<Figure size 432x288 with 1 Axes>"
            ]
          },
          "metadata": {
            "tags": []
          }
        }
      ]
    },
    {
      "cell_type": "markdown",
      "metadata": {
        "id": "d0Nq9-G7LhRQ",
        "colab_type": "text"
      },
      "source": [
        "## Text explainer using the newsgroups"
      ]
    },
    {
      "cell_type": "code",
      "metadata": {
        "id": "ekWUUaNWLe17",
        "colab_type": "code",
        "colab": {
          "base_uri": "https://localhost:8080/",
          "height": 136
        },
        "outputId": "80fb8ee9-feab-4a10-e46f-200499d842c0"
      },
      "source": [
        "# run the text explainer example notebook, up to single explanation\n",
        "import sklearn\n",
        "import numpy as np\n",
        "import sklearn\n",
        "import sklearn.ensemble\n",
        "import sklearn.metrics\n",
        "# from __future__ import print_function\n",
        "\n",
        "from sklearn.datasets import fetch_20newsgroups\n",
        "categories = ['alt.atheism', 'soc.religion.christian']\n",
        "newsgroups_train = fetch_20newsgroups(subset='train', categories=categories)\n",
        "newsgroups_test = fetch_20newsgroups(subset='test', categories=categories)\n",
        "class_names = ['atheism', 'christian']\n",
        "\n",
        "vectorizer = sklearn.feature_extraction.text.TfidfVectorizer(lowercase=False)\n",
        "train_vectors = vectorizer.fit_transform(newsgroups_train.data)\n",
        "test_vectors = vectorizer.transform(newsgroups_test.data)\n",
        "\n",
        "rf = sklearn.ensemble.RandomForestClassifier(n_estimators=500)\n",
        "rf.fit(train_vectors, newsgroups_train.target)\n",
        "\n",
        "pred = rf.predict(test_vectors)\n",
        "sklearn.metrics.f1_score(newsgroups_test.target, pred, average='binary')\n",
        "\n",
        "from lime import lime_text\n",
        "from sklearn.pipeline import make_pipeline\n",
        "c = make_pipeline(vectorizer, rf)\n",
        "\n",
        "from lime.lime_text import LimeTextExplainer\n",
        "explainer = LimeTextExplainer(class_names=class_names)\n",
        "\n",
        "idx = 83\n",
        "exp = explainer.explain_instance(newsgroups_test.data[idx], c.predict_proba, num_features=6)\n",
        "print('Document id: %d' % idx)\n",
        "print('Probability(christian) =', c.predict_proba([newsgroups_test.data[idx]])[0,1])\n",
        "print('True class: %s' % class_names[newsgroups_test.target[idx]])"
      ],
      "execution_count": 12,
      "outputs": [
        {
          "output_type": "stream",
          "text": [
            "Downloading 20news dataset. This may take a few minutes.\n",
            "Downloading dataset from https://ndownloader.figshare.com/files/5975967 (14 MB)\n",
            "/usr/local/lib/python3.6/dist-packages/lime/lime_text.py:116: FutureWarning: split() requires a non-empty pattern match.\n",
            "  self.as_list = [s for s in splitter.split(self.raw) if s]\n"
          ],
          "name": "stderr"
        },
        {
          "output_type": "stream",
          "text": [
            "Document id: 83\n",
            "Probability(christian) = 0.444\n",
            "True class: atheism\n"
          ],
          "name": "stdout"
        }
      ]
    },
    {
      "cell_type": "code",
      "metadata": {
        "id": "0BB6ND4cLkwp",
        "colab_type": "code",
        "colab": {
          "base_uri": "https://localhost:8080/",
          "height": 85
        },
        "outputId": "c980ccb8-bf56-4d0b-be2e-73a61e13bf6d"
      },
      "source": [
        "sp_obj = submodular_pick.SubmodularPick(explainer, newsgroups_test.data, c.predict_proba, sample_size=2, num_features=6,num_exps_desired=2)"
      ],
      "execution_count": 13,
      "outputs": [
        {
          "output_type": "stream",
          "text": [
            "/usr/local/lib/python3.6/dist-packages/lime/lime_text.py:116: FutureWarning: split() requires a non-empty pattern match.\n",
            "  self.as_list = [s for s in splitter.split(self.raw) if s]\n",
            "/usr/local/lib/python3.6/dist-packages/lime/lime_text.py:116: FutureWarning: split() requires a non-empty pattern match.\n",
            "  self.as_list = [s for s in splitter.split(self.raw) if s]\n"
          ],
          "name": "stderr"
        }
      ]
    },
    {
      "cell_type": "code",
      "metadata": {
        "id": "DVjR7enJLmZ0",
        "colab_type": "code",
        "colab": {
          "base_uri": "https://localhost:8080/",
          "height": 545
        },
        "outputId": "dbeea4b1-79ac-4a62-d2e4-f251b3e5e954"
      },
      "source": [
        "[exp.as_pyplot_figure(label=exp.available_labels()[0]) for exp in sp_obj.sp_explanations];"
      ],
      "execution_count": 14,
      "outputs": [
        {
          "output_type": "display_data",
          "data": {
            "image/png": "[encoded data removed]",
            "text/plain": [
              "<Figure size 432x288 with 1 Axes>"
            ]
          },
          "metadata": {
            "tags": []
          }
        },
        {
          "output_type": "display_data",
          "data": {
            "image/png": "[encoded data removed]",
            "text/plain": [
              "<Figure size 432x288 with 1 Axes>"
            ]
          },
          "metadata": {
            "tags": []
          }
        }
      ]
    },
    {
      "cell_type": "code",
      "metadata": {
        "id": "_LV_fSFTLn9S",
        "colab_type": "code",
        "colab": {
          "base_uri": "https://localhost:8080/",
          "height": 34
        },
        "outputId": "21e697b9-9f4e-4223-dc75-57a391c2d37d"
      },
      "source": [
        "from sklearn.datasets import load_iris\n",
        "iris=load_iris()\n",
        "from sklearn.model_selection import train_test_split as tts\n",
        "Xtrain,Xtest,ytrain,ytest=tts(iris.data,iris.target,test_size=.2)\n",
        "from sklearn.ensemble import RandomForestClassifier\n",
        "rf=RandomForestClassifier()\n",
        "rf.fit(Xtrain,ytrain)\n",
        "rf.score(Xtest,ytest)"
      ],
      "execution_count": 15,
      "outputs": [
        {
          "output_type": "execute_result",
          "data": {
            "text/plain": [
              "0.9"
            ]
          },
          "metadata": {
            "tags": []
          },
          "execution_count": 15
        }
      ]
    },
    {
      "cell_type": "code",
      "metadata": {
        "id": "vNDhir4oLpXK",
        "colab_type": "code",
        "colab": {}
      },
      "source": [
        "explainer = lime.lime_tabular.LimeTabularExplainer(Xtrain, \n",
        "                                                   feature_names=iris.feature_names,\n",
        "                                                   class_names=iris.target_names, \n",
        "                                                   verbose=False, \n",
        "                                                   mode='classification',\n",
        "                                                   discretize_continuous=False)"
      ],
      "execution_count": 0,
      "outputs": []
    },
    {
      "cell_type": "code",
      "metadata": {
        "id": "irTXyLCtLq8C",
        "colab_type": "code",
        "colab": {
          "base_uri": "https://localhost:8080/",
          "height": 34
        },
        "outputId": "785d27ab-6320-4ffc-c305-faaf1edcfdd0"
      },
      "source": [
        "exp=explainer.explain_instance(Xtrain[i],rf.predict_proba,top_labels=3)\n",
        "exp.available_labels()"
      ],
      "execution_count": 17,
      "outputs": [
        {
          "output_type": "execute_result",
          "data": {
            "text/plain": [
              "[1, 2, 0]"
            ]
          },
          "metadata": {
            "tags": []
          },
          "execution_count": 17
        }
      ]
    },
    {
      "cell_type": "code",
      "metadata": {
        "id": "HalU5F_CLsMV",
        "colab_type": "code",
        "colab": {}
      },
      "source": [
        "sp_obj = submodular_pick.SubmodularPick(data=Xtrain,explainer=explainer,num_exps_desired=5,predict_fn=rf.predict_proba, sample_size=20, num_features=4, top_labels=3)"
      ],
      "execution_count": 0,
      "outputs": []
    },
    {
      "cell_type": "code",
      "metadata": {
        "id": "y_qhR9x9LtUz",
        "colab_type": "code",
        "colab": {
          "base_uri": "https://localhost:8080/",
          "height": 650
        },
        "outputId": "51a3e1dd-f391-4b2e-861e-6584bab66e79"
      },
      "source": [
        "import pandas as pd\n",
        "df=pd.DataFrame({})\n",
        "for this_label in range(3):\n",
        "    dfl=[]\n",
        "    for i,exp in enumerate(sp_obj.sp_explanations):\n",
        "        l=exp.as_list(label=this_label)\n",
        "        l.append((\"exp number\",i))\n",
        "        dfl.append(dict(l))\n",
        "    dftest=pd.DataFrame(dfl)\n",
        "    df=df.append(pd.DataFrame(dfl,index=[iris.target_names[this_label] for i in range(len(sp_obj.sp_explanations))]))\n",
        "df"
      ],
      "execution_count": 19,
      "outputs": [
        {
          "output_type": "stream",
          "text": [
            "/usr/local/lib/python3.6/dist-packages/pandas/core/frame.py:7138: FutureWarning: Sorting because non-concatenation axis is not aligned. A future version\n",
            "of pandas will change to not sort by default.\n",
            "\n",
            "To accept the future behavior, pass 'sort=False'.\n",
            "\n",
            "To retain the current behavior and silence the warning, pass 'sort=True'.\n",
            "\n",
            "  sort=sort,\n"
          ],
          "name": "stderr"
        },
        {
          "output_type": "execute_result",
          "data": {
            "text/html": [
              "<div>\n",
              "<style scoped>\n",
              "    .dataframe tbody tr th:only-of-type {\n",
              "        vertical-align: middle;\n",
              "    }\n",
              "\n",
              "    .dataframe tbody tr th {\n",
              "        vertical-align: top;\n",
              "    }\n",
              "\n",
              "    .dataframe thead th {\n",
              "        text-align: right;\n",
              "    }\n",
              "</style>\n",
              "<table border=\"1\" class=\"dataframe\">\n",
              "  <thead>\n",
              "    <tr style=\"text-align: right;\">\n",
              "      <th></th>\n",
              "      <th>exp number</th>\n",
              "      <th>petal length (cm)</th>\n",
              "      <th>petal width (cm)</th>\n",
              "      <th>sepal length (cm)</th>\n",
              "      <th>sepal width (cm)</th>\n",
              "    </tr>\n",
              "  </thead>\n",
              "  <tbody>\n",
              "    <tr>\n",
              "      <th>setosa</th>\n",
              "      <td>0</td>\n",
              "      <td>-0.078534</td>\n",
              "      <td>-0.132426</td>\n",
              "      <td>-0.003253</td>\n",
              "      <td>0.006672</td>\n",
              "    </tr>\n",
              "    <tr>\n",
              "      <th>setosa</th>\n",
              "      <td>1</td>\n",
              "      <td>-0.071686</td>\n",
              "      <td>-0.110728</td>\n",
              "      <td>-0.005609</td>\n",
              "      <td>0.004547</td>\n",
              "    </tr>\n",
              "    <tr>\n",
              "      <th>setosa</th>\n",
              "      <td>2</td>\n",
              "      <td>-0.113992</td>\n",
              "      <td>-0.136199</td>\n",
              "      <td>-0.007689</td>\n",
              "      <td>0.003654</td>\n",
              "    </tr>\n",
              "    <tr>\n",
              "      <th>setosa</th>\n",
              "      <td>3</td>\n",
              "      <td>-0.100953</td>\n",
              "      <td>-0.116477</td>\n",
              "      <td>-0.008894</td>\n",
              "      <td>0.007418</td>\n",
              "    </tr>\n",
              "    <tr>\n",
              "      <th>setosa</th>\n",
              "      <td>4</td>\n",
              "      <td>-0.195038</td>\n",
              "      <td>-0.249271</td>\n",
              "      <td>-0.020330</td>\n",
              "      <td>0.009809</td>\n",
              "    </tr>\n",
              "    <tr>\n",
              "      <th>versicolor</th>\n",
              "      <td>0</td>\n",
              "      <td>-0.228775</td>\n",
              "      <td>-0.043028</td>\n",
              "      <td>-0.018309</td>\n",
              "      <td>-0.008156</td>\n",
              "    </tr>\n",
              "    <tr>\n",
              "      <th>versicolor</th>\n",
              "      <td>1</td>\n",
              "      <td>-0.234458</td>\n",
              "      <td>-0.070664</td>\n",
              "      <td>-0.014195</td>\n",
              "      <td>-0.008587</td>\n",
              "    </tr>\n",
              "    <tr>\n",
              "      <th>versicolor</th>\n",
              "      <td>2</td>\n",
              "      <td>-0.149827</td>\n",
              "      <td>-0.041535</td>\n",
              "      <td>0.009695</td>\n",
              "      <td>0.000387</td>\n",
              "    </tr>\n",
              "    <tr>\n",
              "      <th>versicolor</th>\n",
              "      <td>3</td>\n",
              "      <td>-0.186002</td>\n",
              "      <td>-0.067179</td>\n",
              "      <td>-0.009142</td>\n",
              "      <td>-0.003345</td>\n",
              "    </tr>\n",
              "    <tr>\n",
              "      <th>versicolor</th>\n",
              "      <td>4</td>\n",
              "      <td>0.076006</td>\n",
              "      <td>0.142664</td>\n",
              "      <td>0.050819</td>\n",
              "      <td>-0.008328</td>\n",
              "    </tr>\n",
              "    <tr>\n",
              "      <th>virginica</th>\n",
              "      <td>0</td>\n",
              "      <td>0.307309</td>\n",
              "      <td>0.175455</td>\n",
              "      <td>0.021562</td>\n",
              "      <td>0.001484</td>\n",
              "    </tr>\n",
              "    <tr>\n",
              "      <th>virginica</th>\n",
              "      <td>1</td>\n",
              "      <td>0.306145</td>\n",
              "      <td>0.181392</td>\n",
              "      <td>0.019804</td>\n",
              "      <td>0.004040</td>\n",
              "    </tr>\n",
              "    <tr>\n",
              "      <th>virginica</th>\n",
              "      <td>2</td>\n",
              "      <td>0.263818</td>\n",
              "      <td>0.177735</td>\n",
              "      <td>-0.002005</td>\n",
              "      <td>-0.004041</td>\n",
              "    </tr>\n",
              "    <tr>\n",
              "      <th>virginica</th>\n",
              "      <td>3</td>\n",
              "      <td>0.286955</td>\n",
              "      <td>0.183656</td>\n",
              "      <td>0.018035</td>\n",
              "      <td>-0.004073</td>\n",
              "    </tr>\n",
              "    <tr>\n",
              "      <th>virginica</th>\n",
              "      <td>4</td>\n",
              "      <td>0.119032</td>\n",
              "      <td>0.106608</td>\n",
              "      <td>-0.030489</td>\n",
              "      <td>-0.001481</td>\n",
              "    </tr>\n",
              "  </tbody>\n",
              "</table>\n",
              "</div>"
            ],
            "text/plain": [
              "            exp number  petal length (cm)  ...  sepal length (cm)  sepal width (cm)\n",
              "setosa               0          -0.078534  ...          -0.003253          0.006672\n",
              "setosa               1          -0.071686  ...          -0.005609          0.004547\n",
              "setosa               2          -0.113992  ...          -0.007689          0.003654\n",
              "setosa               3          -0.100953  ...          -0.008894          0.007418\n",
              "setosa               4          -0.195038  ...          -0.020330          0.009809\n",
              "versicolor           0          -0.228775  ...          -0.018309         -0.008156\n",
              "versicolor           1          -0.234458  ...          -0.014195         -0.008587\n",
              "versicolor           2          -0.149827  ...           0.009695          0.000387\n",
              "versicolor           3          -0.186002  ...          -0.009142         -0.003345\n",
              "versicolor           4           0.076006  ...           0.050819         -0.008328\n",
              "virginica            0           0.307309  ...           0.021562          0.001484\n",
              "virginica            1           0.306145  ...           0.019804          0.004040\n",
              "virginica            2           0.263818  ...          -0.002005         -0.004041\n",
              "virginica            3           0.286955  ...           0.018035         -0.004073\n",
              "virginica            4           0.119032  ...          -0.030489         -0.001481\n",
              "\n",
              "[15 rows x 5 columns]"
            ]
          },
          "metadata": {
            "tags": []
          },
          "execution_count": 19
        }
      ]
    }
  ]
}